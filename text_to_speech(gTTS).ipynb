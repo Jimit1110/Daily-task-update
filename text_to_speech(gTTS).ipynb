{
  "nbformat": 4,
  "nbformat_minor": 0,
  "metadata": {
    "colab": {
      "provenance": [],
      "authorship_tag": "ABX9TyPNH4XdsD+y5XLuclsPlMQ/",
      "include_colab_link": true
    },
    "kernelspec": {
      "name": "python3",
      "display_name": "Python 3"
    },
    "language_info": {
      "name": "python"
    }
  },
  "cells": [
    {
      "cell_type": "markdown",
      "metadata": {
        "id": "view-in-github",
        "colab_type": "text"
      },
      "source": [
        "<a href=\"https://colab.research.google.com/github/Jimit1110/Daily-task-update/blob/main/text_to_speech(gTTS).ipynb\" target=\"_parent\"><img src=\"https://colab.research.google.com/assets/colab-badge.svg\" alt=\"Open In Colab\"/></a>"
      ]
    },
    {
      "cell_type": "code",
      "execution_count": 1,
      "metadata": {
        "colab": {
          "base_uri": "https://localhost:8080/"
        },
        "id": "cw317IWrDbJl",
        "outputId": "7f7cfb4d-ba4c-4f36-9c01-ef7f9a9ce52c"
      },
      "outputs": [
        {
          "output_type": "stream",
          "name": "stdout",
          "text": [
            "Collecting gTTS\n",
            "  Downloading gTTS-2.5.1-py3-none-any.whl (29 kB)\n",
            "Requirement already satisfied: requests<3,>=2.27 in /usr/local/lib/python3.10/dist-packages (from gTTS) (2.31.0)\n",
            "Requirement already satisfied: click<8.2,>=7.1 in /usr/local/lib/python3.10/dist-packages (from gTTS) (8.1.7)\n",
            "Requirement already satisfied: charset-normalizer<4,>=2 in /usr/local/lib/python3.10/dist-packages (from requests<3,>=2.27->gTTS) (3.3.2)\n",
            "Requirement already satisfied: idna<4,>=2.5 in /usr/local/lib/python3.10/dist-packages (from requests<3,>=2.27->gTTS) (3.6)\n",
            "Requirement already satisfied: urllib3<3,>=1.21.1 in /usr/local/lib/python3.10/dist-packages (from requests<3,>=2.27->gTTS) (2.0.7)\n",
            "Requirement already satisfied: certifi>=2017.4.17 in /usr/local/lib/python3.10/dist-packages (from requests<3,>=2.27->gTTS) (2024.2.2)\n",
            "Installing collected packages: gTTS\n",
            "Successfully installed gTTS-2.5.1\n"
          ]
        }
      ],
      "source": [
        "pip install gTTS"
      ]
    },
    {
      "cell_type": "code",
      "source": [
        "from gtts import gTTS\n",
        "import IPython.display as ipd\n",
        "\n",
        "# Paragraphs of text to be converted to speech\n",
        "paragraph1 = \"hi I'm jimit.\"\n",
        "paragraph2 = \"what's your name\"\n",
        "\n",
        "# Concatenate paragraphs\n",
        "text = paragraph1 + \" \" + paragraph2\n",
        "\n",
        "# Language in which you want to convert\n",
        "language = 'en'\n",
        "\n",
        "# Passing the text and language to the engine\n",
        "tts = gTTS(text=text, lang=language, slow=False)\n",
        "\n",
        "# Saving the converted audio in a mp3 file named sample\n",
        "tts.save(\"sample.mp3\")\n",
        "\n",
        "# Displaying the audio player to listen to the audio\n",
        "ipd.Audio(\"sample.mp3\", autoplay=True)\n"
      ],
      "metadata": {
        "colab": {
          "base_uri": "https://localhost:8080/",
          "height": 75
        },
        "id": "vBvW7NrZDvZA",
        "outputId": "15fd59af-120c-4adc-baf3-3ef234be36b1"
      },
      "execution_count": 2,
      "outputs": [
        {
          "output_type": "execute_result",
          "data": {
            "text/plain": [
              "<IPython.lib.display.Audio object>"
            ],
            "text/html": [
              "\n",
              "                <audio  controls=\"controls\" autoplay=\"autoplay\">\n",
              "                    <source src=\"data:audio/mpeg;base64,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\" type=\"audio/mpeg\" />\n",
              "                    Your browser does not support the audio element.\n",
              "                </audio>\n",
              "              "
            ]
          },
          "metadata": {},
          "execution_count": 2
        }
      ]
    }
  ]
}